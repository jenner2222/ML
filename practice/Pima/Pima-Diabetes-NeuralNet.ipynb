{
 "cells": [
  {
   "cell_type": "markdown",
   "metadata": {},
   "source": [
    "# Classification and Prediction of Diabetes in Pima Women\n",
    "\n",
    "This exercise involves determining whether Pima Native American women living near Phoenix, Arizona have diabetes by learning from a dataset. \n",
    "\n",
    "The [dataset](http://archive.ics.uci.edu/ml/datasets/Pima+Indians+Diabetes) contains the following fields:\n",
    "1. Number of times pregnant \n",
    "2. Plasma glucose concentration a 2 hours in an oral glucose tolerance test \n",
    "3. Diastolic blood pressure (mm Hg) \n",
    "4. Triceps skin fold thickness (mm) \n",
    "5. 2-Hour serum insulin (mu U/ml) \n",
    "6. Body mass index (weight in kg/(height in m)^2) \n",
    "7. Diabetes pedigree function \n",
    "8. Age (years) \n",
    "9. Class variable (0 or 1)\n",
    "\n",
    "This notebook is adapted from http://machinelearningmastery.com/tutorial-first-neural-network-python-keras/"
   ]
  },
  {
   "cell_type": "markdown",
   "metadata": {},
   "source": [
    "# What's in the Dataset?\n",
    "\n",
    "It's helpful to get a good look at the features in the dataset to see if normalization and/or scaling will help."
   ]
  },
  {
   "cell_type": "code",
   "execution_count": 8,
   "metadata": {
    "collapsed": false
   },
   "outputs": [
    {
     "name": "stdout",
     "output_type": "stream",
     "text": [
      "-----Raw dataset feature standard deviations-----\n",
      "feature 1: 3.367384\n",
      "feature 2: 31.951796\n",
      "feature 3: 19.343202\n",
      "feature 4: 15.941829\n",
      "feature 5: 115.168949\n",
      "feature 6: 7.879026\n",
      "feature 7: 0.331113\n",
      "feature 8: 11.752573\n"
     ]
    }
   ],
   "source": [
    "from keras.models import Sequential\n",
    "from keras.layers import Dense\n",
    "from keras.callbacks import History \n",
    "\n",
    "import matplotlib.pyplot as plt\n",
    "import numpy, math\n",
    "\n",
    "\n",
    "# fix random seed for reproducibility\n",
    "seed = 43\n",
    "numpy.random.seed(seed)\n",
    "\n",
    "# load pima indians dataset\n",
    "dataset = numpy.loadtxt(\"pima-indians-diabetes.csv\", delimiter=\",\")\n",
    "\n",
    "# split into input (X) and output (Y) variables\n",
    "X = dataset[:,0:8]\n",
    "Y = dataset[:,8]   # 1 = tested positive for diabetes\n",
    "\n",
    "# examine each feature's standard deviation to see if we need to normalize the data\n",
    "print(\"-----Raw dataset feature standard deviations-----\")\n",
    "for i in range(0, X.shape[1]):\n",
    "    column_elements = list(zip(*X))[i]\n",
    "    print(\"feature %i: %f\" % (i+1, numpy.std(column_elements)))"
   ]
  },
  {
   "cell_type": "markdown",
   "metadata": {},
   "source": [
    "# Feature Normalization and Scaling\n",
    "\n",
    "I actually noticed this potential problem after examining the learning curves plotted at the end of this notebook. There was an interesting feature in the accuracy plot where the accuracy didn't start improving until around the 50th epoch. I got to wondering why it took so long to start learning and remembered I didn't check the dataset features for a sane range of standard deviations before training. It is an interesting exercise to see the accuracy and loss plots over epochs change if you remove the following feature scaling code.\n",
    "\n",
    "Our target standard deviation should be near 1 and we would ideally have a zero mean to improve the error surface to promote good learning rates. Our raw data is showing a wide range of values across features, making the learning process more difficult than necessary and perhaps impacting model accuracy/loss.\n",
    "\n",
    "Let's fix that:"
   ]
  },
  {
   "cell_type": "code",
   "execution_count": 9,
   "metadata": {
    "collapsed": false
   },
   "outputs": [
    {
     "name": "stdout",
     "output_type": "stream",
     "text": [
      "-----Scaled dataset feature standard deviations-----\n",
      "feature 1: 1.000000\n",
      "feature 2: 1.000000\n",
      "feature 3: 1.000000\n",
      "feature 4: 1.000000\n",
      "feature 5: 1.000000\n",
      "feature 6: 1.000000\n",
      "feature 7: 1.000000\n",
      "feature 8: 1.000000\n"
     ]
    }
   ],
   "source": [
    "from sklearn import preprocessing\n",
    "\n",
    "X = preprocessing.scale(X);\n",
    "\n",
    "print(\"-----Scaled dataset feature standard deviations-----\")\n",
    "for i in range(0, X.shape[1]):\n",
    "    column_elements = list(zip(*X))[i]\n",
    "    print(\"feature %i: %f\" % (i+1, numpy.std(column_elements)))      #standard deviation after scaling"
   ]
  },
  {
   "cell_type": "markdown",
   "metadata": {},
   "source": [
    "# Training and Test Datasets\n",
    "\n",
    "We'll dedicate 30% of our dataset examples to testing."
   ]
  },
  {
   "cell_type": "code",
   "execution_count": 3,
   "metadata": {
    "collapsed": true
   },
   "outputs": [],
   "source": [
    "# split datasets into training and test sets\n",
    "num_examples = X.shape[0]\n",
    "validation_split_percentage = 0.3    # 30% of examples set aside as validation set \n",
    "split_index = math.floor(num_examples * (1-validation_split_percentage)) # 70% of dataset will go toward training\n",
    "\n",
    "X_train = X[:split_index-1]\n",
    "Y_train = Y[:split_index-1]\n",
    "\n",
    "X_test = X[split_index-1:]\n",
    "Y_test = Y[split_index-1:]"
   ]
  },
  {
   "cell_type": "markdown",
   "metadata": {},
   "source": [
    "# Defining and Running the Neural Network\n",
    "\n",
    "This neural network consists of three fully-connected layers. Our eight input features per example will feed into the first layer and there's one output layer for this classification task."
   ]
  },
  {
   "cell_type": "code",
   "execution_count": 4,
   "metadata": {
    "collapsed": false
   },
   "outputs": [
    {
     "name": "stdout",
     "output_type": "stream",
     "text": [
      "416/536 [======================>.......] - ETA: 0s\b\b\b\b\b\b\b\b\b\b\b\b\b\b\b\b\b\b\b\b\b\b\b\b\b\b\b\b\b\b\b\b\b\b\b\b\b\b\b\b\b\b\b\b\b\b\b\b\b\b224/536 [===========>..................] - ETA: 0s\b\b\b\b\b\b\b\b\b\b\b\b\b\b\b\b\b\b\b\b\b\b\b\b\b\b\b\b\b\b\b\b\b\b\b\b\b\b\b\b\b\b\b\b\b\b\b\b\b\b\n",
      "acc: 78.92%\n",
      "loss: 43.43%\n"
     ]
    }
   ],
   "source": [
    "# create model\n",
    "model = Sequential()\n",
    "model.add(Dense(12, input_dim=8, init='uniform', activation='relu'))\n",
    "model.add(Dense(8, init='uniform', activation='relu'))\n",
    "model.add(Dense(1, init='uniform', activation='sigmoid'))\n",
    "\n",
    "# Compile model\n",
    "model.compile(loss='binary_crossentropy', optimizer='adam', metrics=['accuracy'])\n",
    "\n",
    "# Fit the model, retain history for later analysis\n",
    "history = History()\n",
    "history = model.fit(X, Y, nb_epoch=150, batch_size=10, validation_split=validation_split_percentage, callbacks=[history], verbose=0)\n",
    "\n",
    "# evaluate the model\n",
    "scores = model.evaluate(X_train, Y_train)\n",
    "print(\"\\n%s: %.2f%%\" % (model.metrics_names[1], scores[1]*100))\n",
    "print(\"%s: %.2f%%\" % (model.metrics_names[0], scores[0]*100))"
   ]
  },
  {
   "cell_type": "markdown",
   "metadata": {},
   "source": [
    "# Test Loss after Training\n",
    "\n",
    "Now that we've trained the model above, it's time to see how the model performs on data it hasn't trained on:"
   ]
  },
  {
   "cell_type": "code",
   "execution_count": 5,
   "metadata": {
    "collapsed": false
   },
   "outputs": [
    {
     "name": "stdout",
     "output_type": "stream",
     "text": [
      " 32/232 [===>..........................] - ETA: 0s\b\b\b\b\b\b\b\b\b\b\b\b\b\b\b\b\b\b\b\b\b\b\b\b\b\b\b\b\b\b\b\b\b\b\b\b\b\b\b\b\b\b\b\b\b\b\b\b\b\b232/232 [==============================] - 0s     \n",
      "\n",
      "acc: 80.60%\n"
     ]
    }
   ],
   "source": [
    "scores = model.evaluate(X_test, Y_test)\n",
    "print(\"\\n%s: %.2f%%\" % (model.metrics_names[1], scores[1]*100))"
   ]
  },
  {
   "cell_type": "markdown",
   "metadata": {},
   "source": [
    "We see that the training and test accuracies are both relatively high and roughly equal. This indicates that the model exhibits low variance and low bias and will likely produce a lower error given more training data."
   ]
  },
  {
   "cell_type": "markdown",
   "metadata": {},
   "source": [
    "# Plotting the Results\n",
    "\n",
    "We got a good look at the overall results of the classifier above. Let's visualize the training and test history to see how the net learned over epochs."
   ]
  },
  {
   "cell_type": "code",
   "execution_count": 6,
   "metadata": {
    "collapsed": false
   },
   "outputs": [
    {
     "data": {
      "image/png": "[encoded data removed]",
      "text/plain": [
       "<matplotlib.figure.Figure at 0x7fcd3e8cd828>"
      ]
     },
     "metadata": {},
     "output_type": "display_data"
    }
   ],
   "source": [
    "plt.figure()\n",
    "plt.title(\"Learning Curve -- Loss\")\n",
    "plt.xlabel(\"Epoch\")\n",
    "plt.ylabel(\"Log Loss\")\n",
    "plt.ylim((0.0, 1.0))\n",
    " \n",
    "# Plot the loss for training and testing sets\n",
    "train_loss_data = history.history['loss']\n",
    "test_loss_data = history.history['val_loss']\n",
    "plt.plot(train_loss_data, color=\"b\", label='Training Loss')\n",
    "plt.plot(test_loss_data, color=\"r\", label='Test Loss')\n",
    "\n",
    "# Draw the plot and reset the y-axis\n",
    "plt.legend(loc=\"best\")\n",
    "plt.draw()\n",
    "plt.show()"
   ]
  },
  {
   "cell_type": "code",
   "execution_count": 7,
   "metadata": {
    "collapsed": false
   },
   "outputs": [
    {
     "data": {
      "image/png": "[encoded data removed]",
      "text/plain": [
       "<matplotlib.figure.Figure at 0x7fcd38329e80>"
      ]
     },
     "metadata": {},
     "output_type": "display_data"
    }
   ],
   "source": [
    "plt.figure()\n",
    "plt.title(\"Learning Curve -- Accuracy\")\n",
    "plt.xlabel(\"Epoch\")\n",
    "plt.ylabel(\"Accuracy\")\n",
    "plt.ylim((0.0, 1.0))\n",
    " \n",
    "# Plot the loss for training and testing sets\n",
    "train_acc_data = history.history['acc']\n",
    "test_acc_data = history.history['val_acc']\n",
    "plt.plot(train_acc_data, color=\"b\", label='Training Accuracy')\n",
    "plt.plot(test_acc_data, color=\"r\", label='Test Accuracy')\n",
    "\n",
    "# Draw the plot and reset the y-axis\n",
    "plt.legend(loc=\"best\")\n",
    "plt.draw()\n",
    "plt.show()"
   ]
  },
  {
   "cell_type": "markdown",
   "metadata": {
    "collapsed": true
   },
   "source": [
    "# Summary\n",
    "\n",
    "This exercise walked through loading and viewing a raw dataset, performing feature scaling and normalization to improve learning, the definition and training of a neural network and an evaluation of its performance.\n",
    "\n",
    "With an accuracy of around 80%, this neural network seems to be a helpful tool in screening for diabetes in this particular population. Perhaps a different network model or more input features would produce a higher accuracy that could rival a physician's expert diagnosis to help in areas underserved by access to physicians."
   ]
  },
  {
   "cell_type": "code",
   "execution_count": null,
   "metadata": {
    "collapsed": true
   },
   "outputs": [],
   "source": []
  }
 ],
 "metadata": {
  "celltoolbar": "Raw Cell Format",
  "kernelspec": {
   "display_name": "Python 3",
   "language": "python",
   "name": "python3"
  },
  "language_info": {
   "codemirror_mode": {
    "name": "ipython",
    "version": 3
   },
   "file_extension": ".py",
   "mimetype": "text/x-python",
   "name": "python",
   "nbconvert_exporter": "python",
   "pygments_lexer": "ipython3",
   "version": "3.5.2"
  }
 },
 "nbformat": 4,
 "nbformat_minor": 2
}
